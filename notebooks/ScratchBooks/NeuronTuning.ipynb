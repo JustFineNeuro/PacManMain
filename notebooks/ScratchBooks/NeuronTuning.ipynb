{
 "cells": [
  {
   "cell_type": "code",
   "execution_count": null,
   "id": "initial_id",
   "metadata": {
    "collapsed": true
   },
   "outputs": [],
   "source": [
    "import math\n",
    "import torch\n",
    "import gpytorch\n",
    "from sklearn.preprocessing import SplineTransformer, OneHotEncoder, PolynomialFeatures\n",
    "from sklearn.gaussian_process import GaussianProcessRegressor\n",
    "from sklearn.preprocessing import MinMaxScaler\n",
    "\n",
    "from sklearn.linear_model import LassoCV\n",
    "from sklearn.compose import ColumnTransformer\n",
    "from sklearn.linear_model import LinearRegression\n",
    "\n",
    "from sklearn.pipeline import Pipeline\n",
    "from sklearn.model_selection import cross_val_score\n",
    "import numpy as np\n",
    "import pandas as pd\n",
    "import scipy\n",
    "import matplotlib.pyplot as plt\n",
    "folder='/Users/user/PycharmProjects/PacManMain/data/Wt'"
   ]
  },
  {
   "metadata": {},
   "cell_type": "code",
   "outputs": [],
   "execution_count": null,
   "source": [
    "# Define a class for Gaussian Process Model using GPyTorch\n",
    "class ExactGPModel(gpytorch.models.ExactGP):\n",
    "    def __init__(self, train_x, train_y, likelihood):\n",
    "        super(ExactGPModel, self).__init__(train_x, train_y, likelihood)\n",
    "        self.mean_module = gpytorch.means.ConstantMean()\n",
    "        self.covar_module = gpytorch.kernels.ScaleKernel(gpytorch.kernels.RBFKernel())\n",
    "\n",
    "    def forward(self, x):\n",
    "        mean_x = self.mean_module(x)\n",
    "        covar_x = self.covar_module(x)\n",
    "        return gpytorch.distributions.MultivariateNormal(mean_x, covar_x)\n",
    "    \n",
    "# Likelihood and model\n",
    "likelihood = gpytorch.likelihoods.GaussianLikelihood()"
   ],
   "id": "b94daad8c8dec626"
  },
  {
   "metadata": {},
   "cell_type": "markdown",
   "source": "Load data",
   "id": "1c060594144b2bbc"
  },
  {
   "metadata": {},
   "cell_type": "code",
   "outputs": [],
   "execution_count": null,
   "source": [
    "psth=scipy.io.loadmat(folder+'/psths.mat')\n",
    "X=scipy.io.loadmat(folder+'/X.mat')\n",
    "drift=scipy.io.loadmat(folder+'/Y.mat')"
   ],
   "id": "a4b7cf649bcba0cb"
  },
  {
   "metadata": {},
   "cell_type": "markdown",
   "source": "Create design matrix + add in drift y",
   "id": "4d6c99533b040bcb"
  },
  {
   "metadata": {},
   "cell_type": "code",
   "outputs": [],
   "execution_count": null,
   "source": [
    "#Get session psths and design mat\n",
    "for sess in range(len(psth['psths'][0])-1):\n",
    "    tmppsth=psth['psths'][0][sess]\n",
    "    xtmp=X['Xflat'][0][sess]\n",
    "    drifttmp=drift['driftflat'][0][sess]\n",
    "    Xin=pd.DataFrame(np.concatenate((xtmp,drifttmp),axis=1))\n",
    "    Xin.rename(columns={0:'wt',1:'reward',2:'time',3:'reldist',4:'relspeed',5:'drift'},inplace=True)\n",
    "    \n",
    "    #one hot encode reward level\n",
    "    Xin_encoded = pd.get_dummies(Xin, columns=['reward'])\n",
    "        \n",
    "    # MinMax Scale continuous predictors\n",
    "    scaler = MinMaxScaler()\n",
    "    # List of columns to apply Min-Max scaling\n",
    "    columns_to_scale = ['wt', 'time', 'reldist','relspeed']  # Replace with your column names\n",
    "    \n",
    "    # Apply the scaler only to the specified columns\n",
    "    Xin_encoded[columns_to_scale] = scaler.fit_transform(Xin_encoded[columns_to_scale])\n",
    "    Xtrain=torch.tensor(np.array(Xin_encoded))\n",
    "    #Do GP regression to get tuning\n",
    "    Ytrain=torch.tensor(tmppsth[:,0])\n",
    "    model = ExactGPModel(Xtrain, Ytrain, likelihood)\n",
    "    \n",
    "    \n",
    "        # Find optimal model hyperparameters\n",
    "    model.train()\n",
    "    likelihood.train()\n",
    "    \n",
    "    # Use the Adam optimizer\n",
    "    optimizer = torch.optim.Adam([\n",
    "        {'params': model.parameters()},  # Includes GaussianLikelihood parameters\n",
    "    ], lr=0.1)\n",
    "    \n",
    "    # Loss function (the marginal log likelihood)\n",
    "    mll = gpytorch.mlls.ExactMarginalLogLikelihood(likelihood, model)\n",
    "    \n",
    "    training_iterations = 50\n",
    "    for i in range(training_iterations):\n",
    "        optimizer.zero_grad()\n",
    "        # Output from model\n",
    "        output = model(Xtrain)\n",
    "        # Calc loss and backprop gradients\n",
    "        loss = -mll(output, Ytrain)\n",
    "        loss.backward()\n",
    "        print('Iter %d/%d - Loss: %.3f' % (i + 1, training_iterations, loss.item()))\n",
    "        optimizer.step()\n",
    "\n",
    "\n",
    "            "
   ],
   "id": "f110a522d3388c1f"
  }
 ],
 "metadata": {
  "kernelspec": {
   "display_name": "Python 3",
   "language": "python",
   "name": "python3"
  },
  "language_info": {
   "codemirror_mode": {
    "name": "ipython",
    "version": 2
   },
   "file_extension": ".py",
   "mimetype": "text/x-python",
   "name": "python",
   "nbconvert_exporter": "python",
   "pygments_lexer": "ipython2",
   "version": "2.7.6"
  }
 },
 "nbformat": 4,
 "nbformat_minor": 5
}
