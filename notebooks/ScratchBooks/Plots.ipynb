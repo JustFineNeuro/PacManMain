{
 "cells": [
  {
   "cell_type": "code",
   "execution_count": null,
   "id": "initial_id",
   "metadata": {
    "collapsed": true
   },
   "outputs": [],
   "source": [
    "import matplotlib.pyplot as plt\n",
    "import scipy.io as sio\n",
    "import numpy as np\n",
    "from mpl_toolkits import mplot3d\n"
   ]
  },
  {
   "metadata": {},
   "cell_type": "markdown",
   "source": "# LOAD AND PLOT SVD: subspace and covariant matrices from those ",
   "id": "ddecb12e45ccd08a"
  },
  {
   "metadata": {},
   "cell_type": "code",
   "outputs": [],
   "execution_count": null,
   "source": [
    "\n",
    "\n",
    "loadsvdfolderacc='/Users/user/Library/CloudStorage/GoogleDrive-justfineneuro@gmail.com/My Drive/ActiveProjects/Pac_Man/ChangeOfMind/Code/ByFigure/SVD_ACC_MONKEY.mat'\n",
    "\n",
    "V=sio.loadmat(loadsvdfolderacc)['output']['V'][0][0]\n",
    "U=sio.loadmat(loadsvdfolderacc)['output']['U'][0][0]\n",
    "D=sio.loadmat(loadsvdfolderacc)['output']['D'][0][0]\n",
    "\n",
    "fig = plt.figure()\n",
    "ax = plt.axes(projection='3d')\n",
    "\n",
    "v1=V[:,0].reshape(2,18).transpose()\n",
    "v2=V[:,1].reshape(2,18).transpose()\n",
    "v3=V[:,2].reshape(2,18).transpose()\n",
    "v4=V[:,3].reshape(2,18).transpose()\n",
    "\n",
    "percvariance=np.diag(D).cumsum()/np.diag(D).cumsum().max()\n",
    "\n",
    "ax.plot3D(v1[:,0],v2[:,0],v3[:,0])\n",
    "ax.plot3D(v1[:,1],v2[:,1],v3[:,1])\n",
    "ax.scatter3D(v1[0,0],v2[0,0],v3[0,0],color='magenta')\n",
    "ax.scatter3D(v1[0,1],v2[0,1],v3[0,1],color='magenta')\n",
    "ax.scatter3D(v1[10,0],v2[10,0],v3[10,0],color='green')\n",
    "ax.scatter3D(v1[9,1],v2[9,1],v3[9,1],color='green')\n",
    "\n",
    "plt.savefig('SVD_123_ACC_MONKEY.png')\n",
    "\n",
    "ax.plot3D(v2[:,0],v3[:,0],v4[:,0])\n",
    "ax.plot3D(v2[:,1],v3[:,1],v4[:,1])\n",
    "ax.scatter3D(v2[0,0],v3[0,0],v4[0,0],color='magenta')\n",
    "ax.scatter3D(v2[0,1],v3[0,1],v4[0,1],color='magenta')\n",
    "ax.scatter3D(v2[10,0],v3[10,0],v4[10,0],color='green')\n",
    "ax.scatter3D(v2[9,1],v3[9,1],v4[9,1],color='green')\n",
    "\n",
    "\n",
    "plt.savefig('SVD_234_ACC_MONKEY.png')\n",
    "\n"
   ],
   "id": "8fd84eb5d43feb5"
  }
 ],
 "metadata": {
  "kernelspec": {
   "display_name": "Python 3",
   "language": "python",
   "name": "python3"
  },
  "language_info": {
   "codemirror_mode": {
    "name": "ipython",
    "version": 2
   },
   "file_extension": ".py",
   "mimetype": "text/x-python",
   "name": "python",
   "nbconvert_exporter": "python",
   "pygments_lexer": "ipython2",
   "version": "2.7.6"
  }
 },
 "nbformat": 4,
 "nbformat_minor": 5
}
