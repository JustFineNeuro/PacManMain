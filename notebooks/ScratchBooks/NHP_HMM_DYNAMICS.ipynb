{
 "cells": [
  {
   "cell_type": "markdown",
   "source": [
    "# The gamut:\n",
    "we want to define motifs as different control strategies over an implicit control system, the joystick monkey, that would decay in motion without external input. In terms of a discrete system, $x_{t}=Ax_{t-1} +\\tau \\dot{x}_{t-1}$ for $\\dot{x}_{t-1}=0$ will go to $\\rightarrow$ $x_{t}-Ax_{t-1} = 0$\n",
    "\n",
    "Therefore, any changes to a stable system not related to implicit dynamics must come from the control matrix. In Pac-man, for example, it represents an input matrix perturbation to those implicit dynamics $A+B$\n",
    "\n",
    "In scenarios of control over linear dynamics, the linear dynamics of an inherent system to be controlled may not change.\n",
    "For example, for a velocity control system, we can write a discrete state space model with transition matrix $A$ as\n",
    "$$ A=\n",
    "\\begin{pmatrix}\n",
    "1 & dt \\\\\n",
    "0 & 1 \\\\\n",
    "\\end{pmatrix}\n",
    "$$\n",
    "\n",
    "In this simple 1D system, the state variables are the: position $x$ and velocity $\\dot{x}$\n",
    "\n",
    "We can then write the simple dynamic system as (with allowable extension to multidimensional dynamics):\n",
    "\n",
    "$$ \\vec{x} =\n",
    "\\begin{pmatrix}\n",
    "x \\\\\n",
    "\\dot{x} \\\\\n",
    "\\end{pmatrix}$$\n",
    "\n",
    "Initial condition $\\vec{x}_{0} $\n",
    "\n",
    "\n",
    "\n",
    "$Control = Bu \\rightarrow$ = $\\ddot{x}$\n",
    "\n",
    "We can see that the force moving the system F= $\\ddot{x} \\rightarrow$ goes to a spring deviation term of $(x - target)$ and this is absorbed into $Bu$\n",
    "Therefore, force == acceleration == B(x-target) for a proportional controller. Therefore, fitting a model to different control scenarios surmounts to fixing the system dynamics $A$ and allowing deviations to emerge for how controls $Bu$ are applied for a given target.\n",
    "\n",
    "*Note: in the multi-target case for above, differentiation of motifs is pushed into the control matrix and the $B$ matrix will have multiple columns, n columns for n targets, to be exact. However, residual control states could be added in. Residual control states could relate to, say, cost functions on the environment itself.\n",
    "\n",
    "*Note: having a fixed systems dynamics $A$ works when the state variable is the position/velocity of the cursor. However, this changes in egocentric coordinates, but still can be written out appropriately as I show next. In the next egocentric variant, we can write out multiple states that reference the deviation from each target and is larger for obvious reasons when we consider the input of multiple targets.\n",
    "\n",
    "$Egocentric$ model $\\vec{x}$ and $A$ are as follows:\n",
    "\n",
    "$$\\vec{x}_t=\n",
    "\\begin{pmatrix}\n",
    "x-x_1 \\\\\n",
    "\\dot{x}-\\dot{x}_1 \\\\\n",
    "x-x_2 \\\\\n",
    "\\dot{x}-\\dot{x}_2\n",
    "\\end{pmatrix}\n",
    "=\n",
    "\\begin{pmatrix}\n",
    "a& b& 0& 0 \\\\\n",
    "0& c& 0& 0 \\\\\n",
    "0& 0& d& e \\\\\n",
    "0& 0& 0& f \\\\\n",
    "\\end{pmatrix}\n",
    "\\vec{x}_{t-1}\n",
    "$$\n",
    "\n",
    "*Note 2: however, this model doesn't really conform to expectations. Unless we write the control u as the sum of target acceleration at t-1 +/- the proportional error term for the joystick and target. Or wait, is it just relative acceleration?? Or due to the +\\- properties, can we write/decompose the $Bu$ as $\\ddot{x}_{target} - u$\n",
    "Where $u = (x-x_1)_{t-1}$\n",
    "This means that $\\ddot{x}_{target}$ could be effectively moved into the A matrix, as there is no control over and added to the state matrix $\\vec{x}$ and would expand the rows and columns of $A$ by 1 for 1 target and by 2 or n-rows and n-columns for n targets\n",
    "\n",
    "*Note 3 (coordinate rewrite): angular coordinates also seem to play a distinct role in navigational stategies. In this sense, the above $x,y$ coordinate systems could be augmented with a rotational variant as well."
   ],
   "metadata": {
    "collapsed": false
   }
  },
  {
   "cell_type": "markdown",
   "source": [
    "# Math notes worth remembering for linear systems analysis and decomposition:\n",
    "https://personal.math.ubc.ca/~tbjw/ila/dds.html\n",
    "https://compneuro.neuromatch.io/tutorials/W0D3_LinearAlgebra/student/W0D3_Tutorial3.html\n",
    "1. For discrete time systems, with eigendecomposition of $A$ eigenvalues >>approaching 1 imply a stable point. $\\Lambda <1$\n",
    "$x_{t} = Ax_{t-1}$. Therefore, we can decompose each system into its eigenvectors and eigenvalues as well to determine their proper modes and differentiate dynamics.\n",
    "1a. $x_{t} = Ax_{t-1}$ == $x_{t} = A^t x_{0}$\n",
    "\n"
   ],
   "metadata": {
    "collapsed": false
   }
  },
  {
   "cell_type": "markdown",
   "source": [
    "# Notes on experimental fitting of data.\n",
    "1. We may anticipate the B matrix to change per reward target level\n",
    "2. We can write the system as a first-order system, too. Namely: $x_{t}=Ax_{t-1} + Bu$ where $u == \\dot{x} == (x - x_{target})$\n",
    "3. As an extension, we could re-write as an proportional + integral control system:\n",
    "https://eng.libretexts.org/Bookshelves/Industrial_and_Systems_Engineering/Book%3A_Introduction_to_Control_Systems_(Iqbal)/09%3A_Controller_Design_for_State_Variable_Models/9.03%3A_Tracking_PI_Controller_Design\n",
    "4. # advantage of derivative contorl system is it predicts the rate of change of error.\n",
    "\n",
    "4. Or write with extension of $u$= ($x-x_{target}$) + ($\\dot{x}-\\dot{x}_{target}$) all at $state_{t-1}$\n",
    "5. Note, we can estimate residual states as well. The other shit formulation.\n",
    "6. Can we replace aR models with DMD?"
   ],
   "metadata": {
    "collapsed": false
   }
  },
  {
   "cell_type": "markdown",
   "source": [
    "# important note of rememberance for relative coordinates:\n",
    "1. x'-x'target (t) could = x'-x'target (t-1) even if both change, ie, the same amount."
   ],
   "metadata": {
    "collapsed": false
   }
  },
  {
   "cell_type": "code",
   "execution_count": 6,
   "outputs": [],
   "source": [
    "import PacTimeOrig.DataHandling as DH\n",
    "import PacTimeOrig.Methods.utils as pacutils\n",
    "\n",
    "import numpy as np\n",
    "import pandas as pd\n",
    "import os"
   ],
   "metadata": {
    "collapsed": false
   }
  },
  {
   "cell_type": "code",
   "execution_count": 7,
   "outputs": [
    {
     "ename": "AttributeError",
     "evalue": "module 'PacTimeOrig.DataHandling' has no attribute 'behaveVars'",
     "output_type": "error",
     "traceback": [
      "\u001B[1;31m---------------------------------------------------------------------------\u001B[0m",
      "\u001B[1;31mAttributeError\u001B[0m                            Traceback (most recent call last)",
      "\u001B[1;32m~\\AppData\\Local\\Temp\\ipykernel_18864\\2885726739.py\u001B[0m in \u001B[0;36m<module>\u001B[1;34m\u001B[0m\n\u001B[0;32m      1\u001B[0m \u001B[0mdata\u001B[0m\u001B[1;33m=\u001B[0m\u001B[0mDH\u001B[0m\u001B[1;33m.\u001B[0m\u001B[0mdataloader\u001B[0m\u001B[1;33m(\u001B[0m\u001B[0mdirec\u001B[0m\u001B[1;33m=\u001B[0m\u001B[0mos\u001B[0m\u001B[1;33m.\u001B[0m\u001B[0mpath\u001B[0m\u001B[1;33m.\u001B[0m\u001B[0mabspath\u001B[0m\u001B[1;33m(\u001B[0m\u001B[0mos\u001B[0m\u001B[1;33m.\u001B[0m\u001B[0mpath\u001B[0m\u001B[1;33m.\u001B[0m\u001B[0mjoin\u001B[0m\u001B[1;33m(\u001B[0m\u001B[0mos\u001B[0m\u001B[1;33m.\u001B[0m\u001B[0mgetcwd\u001B[0m\u001B[1;33m(\u001B[0m\u001B[1;33m)\u001B[0m\u001B[1;33m,\u001B[0m \u001B[0mos\u001B[0m\u001B[1;33m.\u001B[0m\u001B[0mpardir\u001B[0m\u001B[1;33m)\u001B[0m\u001B[1;33m)\u001B[0m\u001B[1;33m,\u001B[0m\u001B[0msubject\u001B[0m\u001B[1;33m=\u001B[0m\u001B[1;34m'H'\u001B[0m\u001B[1;33m,\u001B[0m\u001B[0msession\u001B[0m \u001B[1;33m=\u001B[0m \u001B[1;36m1\u001B[0m\u001B[1;33m,\u001B[0m \u001B[0msuffix\u001B[0m\u001B[1;33m=\u001B[0m\u001B[1;34m'Pac_dACC.mat'\u001B[0m\u001B[1;33m)\u001B[0m\u001B[1;33m\u001B[0m\u001B[1;33m\u001B[0m\u001B[0m\n\u001B[0;32m      2\u001B[0m \u001B[0msessvars\u001B[0m\u001B[1;33m=\u001B[0m\u001B[0mDH\u001B[0m\u001B[1;33m.\u001B[0m\u001B[0mExperimentVarsRetrieve\u001B[0m\u001B[1;33m(\u001B[0m\u001B[0mdata\u001B[0m\u001B[1;33m)\u001B[0m\u001B[1;33m\u001B[0m\u001B[1;33m\u001B[0m\u001B[0m\n\u001B[1;32m----> 3\u001B[1;33m \u001B[0mmovevars\u001B[0m\u001B[1;33m=\u001B[0m\u001B[0mDH\u001B[0m\u001B[1;33m.\u001B[0m\u001B[0mbehaveVars\u001B[0m\u001B[1;33m\u001B[0m\u001B[1;33m\u001B[0m\u001B[0m\n\u001B[0m",
      "\u001B[1;31mAttributeError\u001B[0m: module 'PacTimeOrig.DataHandling' has no attribute 'behaveVars'"
     ]
    }
   ],
   "source": [
    "data=DH.dataloader(direc='C:\\\\Users\\\\Justin\\\\Documents\\\\GitHub\\\\PacManHuman\\\\',subject='H',session = 1, suffix='Pac_dACC.mat')\n",
    "sessionVars = DH.ExperimentVarsRetrieve(data)\n",
    "positions = DH.retrievepositions(data)\n",
    "\n",
    "#Compute derivatives\n",
    "sigma=pacutils.fwhm2sigmatimebased(fwhm=5,dt=16.67)#35 ms * 2 FWHM. Could smooth more\n",
    "xbin=pacutils.timebinforsmooth(dt=16.67)\n",
    "kernel=pacutils.gausskernel(sigma[0],xbin,0,16.67)"
   ],
   "metadata": {
    "collapsed": false
   }
  },
  {
   "cell_type": "code",
   "execution_count": 5,
   "outputs": [
    {
     "data": {
      "text/plain": "'C:\\\\Users\\\\Justin\\\\Documents\\\\GitHub\\\\PacManHuman'"
     },
     "execution_count": 5,
     "metadata": {},
     "output_type": "execute_result"
    }
   ],
   "source": [
    "xbin=pacutils.timebinforsmooth()"
   ],
   "metadata": {
    "collapsed": false
   }
  },
  {
   "cell_type": "code",
   "execution_count": null,
   "outputs": [],
   "source": [],
   "metadata": {
    "collapsed": false
   }
  }
 ],
 "metadata": {
  "kernelspec": {
   "display_name": "Python 3",
   "language": "python",
   "name": "python3"
  },
  "language_info": {
   "codemirror_mode": {
    "name": "ipython",
    "version": 2
   },
   "file_extension": ".py",
   "mimetype": "text/x-python",
   "name": "python",
   "nbconvert_exporter": "python",
   "pygments_lexer": "ipython2",
   "version": "2.7.6"
  }
 },
 "nbformat": 4,
 "nbformat_minor": 0
}
