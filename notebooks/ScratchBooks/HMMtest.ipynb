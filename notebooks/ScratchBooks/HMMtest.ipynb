{
 "cells": [
  {
   "cell_type": "code",
   "execution_count": null,
   "metadata": {
    "collapsed": true
   },
   "outputs": [],
   "source": [
    "import PacTimeOrig.DataHandling as DH\n",
    "import PacTimeOrig.Methods.utils as pacutils\n",
    "\n",
    "import numpy as np\n",
    "import pandas as pd\n",
    "import os"
   ]
  },
  {
   "cell_type": "code",
   "execution_count": null,
   "outputs": [],
   "source": [
    "\n",
    "data=DH.dataloader(direc='C:\\\\Users\\\\Justin\\\\Documents\\\\GitHub\\\\PacManHuman\\\\',subject='H',session = 1, suffix='Pac_dACC.mat')\n",
    "sessionVars = DH.ExperimentVarsRetrieve(data)\n",
    "positions = DH.retrievepositions(data)\n",
    "#velocity, accelaration\n",
    "positions = pacutils.computederivatives(positions)\n",
    "#distance and angle\n",
    "positions = pacutils.computeheading(positions)\n",
    "pacutils.computevelocitytowardstarget(positions)\n",
    "\n",
    "#Append the above info into SessionVars as a goodbad (good =1), get rection time, and idx of first peak for splitting\n",
    "sessionVars=pacutils.trialRtPkRej(sessionVars, positions)"
   ],
   "metadata": {
    "collapsed": false
   }
  },
  {
   "cell_type": "code",
   "execution_count": null,
   "outputs": [],
   "source": [
    "#Get aggregated features for each trial\n",
    "p1trialdat=pacutils.getclusterfeatures(sessionVars, positions)\n",
    "\n",
    "#Make sure not to include bad trials using the gb flag in sessionVars, let's make a new variable for it\n",
    "p1trials = sessionVars[sessionVars['numNPC'] == 1].index\n",
    "goodbad=sessionVars['goodtrial'].loc[p1trials].reset_index(drop=True)\n"
   ],
   "metadata": {
    "collapsed": false
   }
  },
  {
   "cell_type": "code",
   "execution_count": null,
   "outputs": [],
   "source": [
    "A=pd.DataFrame(positions[0]['selfXpos'].to_numpy())\n",
    "B=pd.DataFrame(positions[0]['selfXvel'].to_numpy())\n",
    "C=pd.DataFrame(positions[0]['prey1Xpos'].to_numpy())\n",
    "D=pd.DataFrame(positions[0]['prey1Xvel'].to_numpy())\n",
    "\n",
    "obs=pd.concat((A,B,C,D),axis=1).to_numpy()"
   ],
   "metadata": {
    "collapsed": false
   }
  },
  {
   "cell_type": "code",
   "execution_count": null,
   "outputs": [],
   "source": [
    "import autograd.numpy as np\n",
    "import autograd.numpy.random as npr\n",
    "npr.seed(0)\n",
    "\n",
    "import ssm\n",
    "from ssm.util import find_permutation\n",
    "from ssm.plots import gradient_cmap, white_to_color_cmap\n",
    "import matplotlib.pyplot as plt\n",
    "import seaborn as sns\n",
    "sns.set_style(\"white\")\n",
    "sns.set_context(\"talk\")\n",
    "\n",
    "color_names = [\n",
    "    \"windows blue\",\n",
    "    \"red\",\n",
    "    \"amber\",\n",
    "    \"faded green\",\n",
    "    \"dusty purple\",\n",
    "    \"orange\"\n",
    "    ]\n",
    "\n",
    "colors = sns.xkcd_palette(color_names)\n",
    "cmap = gradient_cmap(colors)\n"
   ],
   "metadata": {
    "collapsed": false
   }
  },
  {
   "cell_type": "code",
   "execution_count": null,
   "outputs": [],
   "source": [
    "arhmm=ssm.HMM(K=4,D=4,observations=\"ar\")"
   ],
   "metadata": {
    "collapsed": false
   }
  }
 ],
 "metadata": {
  "kernelspec": {
   "display_name": "Python 3",
   "language": "python",
   "name": "python3"
  },
  "language_info": {
   "codemirror_mode": {
    "name": "ipython",
    "version": 2
   },
   "file_extension": ".py",
   "mimetype": "text/x-python",
   "name": "python",
   "nbconvert_exporter": "python",
   "pygments_lexer": "ipython2",
   "version": "2.7.6"
  }
 },
 "nbformat": 4,
 "nbformat_minor": 0
}
