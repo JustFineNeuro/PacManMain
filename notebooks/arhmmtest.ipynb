{
 "cells": [
  {
   "cell_type": "code",
   "execution_count": null,
   "outputs": [],
   "source": [
    "import PacTimeOrig.DataHandling as DH\n",
    "import PacTimeOrig.Methods.utils as pacutils\n",
    "from PacTimeOrig.Methods.Clusteresque import recusiveCDF, EMDRecursive, getvarforclustering, loadEMDmatrices\n",
    "\n",
    "import numpy as np\n",
    "import pandas as pd\n",
    "import os\n",
    "import seaborn as sns\n",
    "import matplotlib.pyplot as plt\n",
    "\n",
    "from sklearn.cluster import AffinityPropagation\n",
    "\n",
    "##"
   ],
   "metadata": {
    "collapsed": false
   }
  },
  {
   "cell_type": "code",
   "execution_count": null,
   "outputs": [],
   "source": [
    "#set some analysis variables that'll stay fixed\n",
    "data = DH.dataloader(direc='C:\\\\Users\\\\Justin\\\\Documents\\\\GitHub\\\\PacManHuman\\\\', subject='H', session=1,\n",
    "                     suffix='Pac_dACC.mat')\n",
    "sessionVars = DH.ExperimentVarsRetrieve(data)\n",
    "positions = DH.retrievepositions(data)\n",
    "#velocity, accelaration\n",
    "positions = pacutils.computederivatives(positions)\n",
    "#distance and angle\n",
    "positions = pacutils.computeheading(positions)\n",
    "pacutils.computevelocitytowardstarget(positions)\n",
    "\n",
    "#Append the above info into SessionVars as a goodbad (good =1), get rection time, and idx of first peak for splitting\n",
    "sessionVars = pacutils.trialRtPkRej(sessionVars, positions)"
   ],
   "metadata": {
    "collapsed": false
   }
  },
  {
   "cell_type": "code",
   "execution_count": null,
   "outputs": [],
   "source": [
    "#Get aggregated features for each trial\n",
    "p1trialdat=pacutils.getclusterfeatures(sessionVars, positions,winlength=1)\n",
    "\n",
    "#Make sure not to include bad trials using the gb flag in sessionVars, let's make a new variable for it\n",
    "p1trials = sessionVars[sessionVars['numNPC'] == 1].index\n",
    "goodbad=sessionVars['goodtrial'].loc[p1trials].reset_index(drop=True)"
   ],
   "metadata": {
    "collapsed": false
   }
  },
  {
   "cell_type": "code",
   "execution_count": null,
   "outputs": [],
   "source": [
    "datum=[]\n",
    "\n",
    "for i in p1trials:\n",
    "    A=pd.DataFrame(positions[i]['selfXpos'].to_numpy())\n",
    "    B=pd.DataFrame(positions[i]['selfXvel'].to_numpy())\n",
    "    C=pd.DataFrame(positions[i]['prey1Xpos'].to_numpy())\n",
    "    D=pd.DataFrame(positions[i]['prey1Xvel'].to_numpy())\n",
    "    E=pd.DataFrame(positions[i]['prey1_scalar_projection'].to_numpy())\n",
    "    F=pd.DataFrame(positions[i]['prey1_scalar_projection_gradient'].to_numpy())\n",
    "\n",
    "    'prey1_scalar_projection'\n",
    "    #obsA=pd.concat((A-C,B,D,E,F),axis=1).to_numpy()\n",
    "    obsA=pd.concat((A-C,B,D,E,F),axis=1).loc[sessionVars['ReactionTime'][i]:,:].to_numpy()\n",
    "\n",
    "    datum.append(obsA)\n",
    "\n",
    "n_inputs=0\n",
    "LLS=[]\n",
    "for i in tqdm(range(10)):\n",
    "    hmm = ssm.HMM(i+1, 5, observations=\"ar\")\n",
    "    lls=hmm.fit(datum,method=\"em\")\n",
    "    LLS.append(lls)\n",
    "\n",
    "lla=[]\n",
    "for i in (range(10)):\n",
    "    lla.append(np.min(np.abs(LLS[i])))\n",
    "\n",
    "#Find the best fitting model based on final likeihood min(np.abs(LLS))\n",
    "hmm = ssm.HMM(5, 5,M=n_inputs, observations=\"ar\")\n",
    "lls=hmm.fit(datum,method=\"em\")\n",
    "\n"
   ],
   "metadata": {
    "collapsed": false
   }
  },
  {
   "cell_type": "code",
   "execution_count": null,
   "outputs": [],
   "source": [
    "#Now get expected states through decoding and create some distributions for plotting\n",
    "states=pd.DataFrame()\n",
    "dat=pd.DataFrame()\n",
    "for i in range(len(datum)):\n",
    "    states=pd.concat((states,pd.DataFrame(hmm.most_likely_states(datum[i]))),axis=0)\n",
    "    dat=pd.concat((dat,pd.DataFrame(datum[i])),axis=0)\n",
    "\n",
    "states.reset_index(drop=True,inplace=True)\n",
    "dat.reset_index(drop=True,inplace=True)\n",
    "\n"
   ],
   "metadata": {
    "collapsed": false
   }
  }
 ],
 "metadata": {
  "kernelspec": {
   "display_name": "Python 3",
   "language": "python",
   "name": "python3"
  },
  "language_info": {
   "codemirror_mode": {
    "name": "ipython",
    "version": 2
   },
   "file_extension": ".py",
   "mimetype": "text/x-python",
   "name": "python",
   "nbconvert_exporter": "python",
   "pygments_lexer": "ipython2",
   "version": "2.7.6"
  }
 },
 "nbformat": 4,
 "nbformat_minor": 0
}
