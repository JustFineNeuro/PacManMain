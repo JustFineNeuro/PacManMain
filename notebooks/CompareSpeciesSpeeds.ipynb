{
 "cells": [
  {
   "metadata": {},
   "cell_type": "markdown",
   "source": "Do monkeys first",
   "id": "f0c19f91b3be6ed4"
  },
  {
   "metadata": {},
   "cell_type": "code",
   "outputs": [],
   "execution_count": null,
   "source": [
    "import os\n",
    "import pandas as pd\n",
    "import numpy as np\n",
    "import jax.numpy as jnp\n",
    "import numpyro\n",
    "import matplotlib.pyplot as plt\n",
    "import seaborn as sns\n",
    "from Scripts import scripts\n",
    "from PacTimeOrig.data import DataHandling as dh\n",
    "from PacTimeOrig.data import DataProcessing as dp\n",
    "from PacTimeOrig.controllers import simulator as sim\n",
    "from PacTimeOrig.controllers import JaxMod as jm\n",
    "from PacTimeOrig.controllers import utils as ut"
   ],
   "id": "initial_id"
  },
  {
   "metadata": {},
   "cell_type": "code",
   "outputs": [],
   "execution_count": null,
   "source": [
    "for sess in range(5):\n",
    "    cfgparams={'area':'dACC','session':sess+1,'subj':'H','typeswitch':1,'rbfs':[20,30,40,50,60,70,80],'restarts':6}\n",
    "    \n",
    "    Xdsgn, kinematics, sessvars, psth = scripts.monkey_run(cfgparams)\n",
    "    \n",
    "    speed=[]\n",
    "    for trial in range(len(Xdsgn)):\n",
    "        speed.append(np.array(Xdsgn[trial]['selfspeedmag']))\n",
    "        \n",
    "    sns.histplot(np.concatenate(speed), bins=30, kde=True, stat=\"probability\",alpha=0.0,element=\"step\")\n",
    "    # sns.kdeplot(np.concatenate(speed),alpha=.5,common_norm=True)\n",
    "    \n",
    "for sess in range(20):\n",
    "    cfgparams={'area':'dACC','session':sess+1,'subj':'K','rbfs':[20,30,40,50,60,70,80],'restarts':6}\n",
    "    \n",
    "    Xdsgn, kinematics, sessvars, psth = scripts.monkey_run(cfgparams)\n",
    "    \n",
    "    speed=[]\n",
    "    for trial in range(len(Xdsgn)):\n",
    "        speed.append(np.array(Xdsgn[trial]['selfspeedmag']))\n",
    "        \n",
    "    # sns.kdeplot(np.concatenate(speed),alpha=.5,common_norm=True)\n",
    "    \n",
    "    sns.histplot(np.concatenate(speed), bins=30, kde=True, stat=\"probability\",alpha=0.0,element=\"step\")\n",
    "    \n",
    "    \n",
    "plt.show()\n"
   ],
   "id": "748a8a239121e9b6"
  },
  {
   "metadata": {},
   "cell_type": "code",
   "outputs": [],
   "execution_count": null,
   "source": [
    "folder = '/Users/user/PycharmProjects/PacManMain/data/HumanEMU'\n",
    "subjects = os.listdir(folder)[1:]\n",
    "for _,subj in enumerate(subjects):\n",
    "    cfgparams={'folder':folder,'subj':subj}\n",
    "    Xdsgn, kinematics, sessvars, psth = scripts.human_emu_run(cfgparams)\n",
    "    speed=[]\n",
    "    for trial in range(len(Xdsgn)):\n",
    "        speed.append(np.array(Xdsgn[trial]['selfspeedmag']))\n",
    "        \n",
    "    # sns.kdeplot(np.concatenate(speed),alpha=.5,common_norm=True,fill=True)\n",
    "    sns.histplot(np.concatenate(speed), bins=30, kde=True, stat=\"probability\",alpha=0.0,element=\"step\")"
   ],
   "id": "77fc332bf0b9c648"
  }
 ],
 "metadata": {
  "kernelspec": {
   "display_name": "Python 3",
   "language": "python",
   "name": "python3"
  },
  "language_info": {
   "codemirror_mode": {
    "name": "ipython",
    "version": 2
   },
   "file_extension": ".py",
   "mimetype": "text/x-python",
   "name": "python",
   "nbconvert_exporter": "python",
   "pygments_lexer": "ipython2",
   "version": "2.7.6"
  }
 },
 "nbformat": 4,
 "nbformat_minor": 5
}
