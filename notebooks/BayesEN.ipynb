{
 "cells": [
  {
   "cell_type": "code",
   "execution_count": null,
   "outputs": [],
   "source": [
    "#Import some libraries\n",
    "import matplotlib.pyplot as plt\n",
    "import matplotlib\n",
    "matplotlib.rcParams['figure.figsize'] = (16, 6)\n",
    "import seaborn as sns\n",
    "import numpy as np\n",
    "import pandas as pd\n",
    "import os\n",
    "\n",
    "sns.set_style(\"dark\"); sns.set_palette(\"muted\"); sns.set_context(\"paper\")\n",
    "\n",
    "from sklearn.datasets import make_sparse_coded_signal\n",
    "\n"
   ],
   "metadata": {
    "collapsed": false
   }
  },
  {
   "cell_type": "markdown",
   "source": [
    "Let's simulate data from a sparse regression"
   ],
   "metadata": {
    "collapsed": false
   }
  },
  {
   "cell_type": "code",
   "execution_count": null,
   "outputs": [],
   "source": [
    "y, X, beta = make_sparse_coded_signal(n_samples=1,\n",
    "                                   n_components=500,\n",
    "                                   n_features=4000,\n",
    "                                   n_nonzero_coefs=30,\n",
    "                                   random_state=0)\n",
    "# add some noise to y\n",
    "y = y + 0.1 * np.random.randn(len(y))\n",
    "\n",
    "plt.step(range(len(beta)), beta,  where='mid', lw=1)\n",
    "plt.plot(range(len(beta)), beta, '.')\n",
    "plt.xlabel(r'$true \\beta$')"
   ],
   "metadata": {
    "collapsed": false
   }
  },
  {
   "cell_type": "markdown",
   "source": [
    "Let's create our horseshoe and elastic linear models\n",
    "The horseshoe (HS)prior is different than the laplacian for an L1 or normal for L2 (ridge)\n",
    "\n",
    "The HS prior is a mixture model prior"
   ],
   "metadata": {
    "collapsed": false
   }
  },
  {
   "cell_type": "code",
   "execution_count": null,
   "outputs": [],
   "source": [
    "#Lets import necessary libraries and define some possible models: horeshoe, ridge, lasso, scalemixture.\n",
    "import numpyro\n",
    "import numpyro.distributions as dist\n",
    "import jax.numpy as jnp\n",
    "def horeshoe_linear_model(y=None, X=None):\n",
    "    n_predictors = X.shape[1]\n",
    "    y_sigma = numpyro.sample('y_sigma',dist.Gamma(0.5,1))\n",
    "    with numpyro.plate('local_shrinkage', n_predictors):\n",
    "        Lambda = numpyro.sample('lambda', dist.HalfCauchy(scale=1))\n",
    "        Tau = numpyro.sample('tau',dist.Gamma(0.5,8*Lambda))\n",
    "        horseshoe_sigma = Lambda*Tau\n",
    "        Beta = numpyro.sample('beta', dist.Normal(loc=0, scale=horseshoe_sigma))\n",
    "    mu = jnp.dot(X, Beta)\n",
    "    numpyro.sample('obs', dist.Normal(loc=mu, scale=y_sigma), obs=y)\n",
    "\n",
    "\n",
    "def elastic_linear_model(y=None, X=None):\n",
    "    n_predictors = X.shape[1]\n",
    "    y_sigma = numpyro.sample('y_sigma',dist.Gamma(0.5,1)) #Prior on observation noise. Model as RV\n",
    "    with numpyro.plate('local_shrinkage', n_predictors):\n",
    "        Lambda1 = numpyro.sample('lambda_1', dist.HalfCauchy(scale=1))\n",
    "        Lambda2 = numpyro.sample('lambda_2', dist.HalfCauchy(scale=1))\n",
    "        Tau_rate=(8*Lambda2*y_sigma)/(Lambda1**2)\n",
    "        Tau = numpyro.sample('tau',dist.Gamma(0.5,Tau_rate))\n",
    "        Beta_Sigma = (Lambda2/y_sigma)*((Tau+1)/((Tau+1)-1))\n",
    "        Beta = numpyro.sample('beta', dist.Normal(loc=0, scale=Beta_Sigma))\n",
    "    mu = jnp.dot(X, Beta)\n",
    "    numpyro.sample('obs', dist.Normal(loc=mu, scale=y_sigma), obs=y)"
   ],
   "metadata": {
    "collapsed": false
   }
  },
  {
   "cell_type": "code",
   "execution_count": null,
   "outputs": [],
   "source": [
    "from numpyro.infer import MCMC, NUTS\n",
    "from jax import random\n",
    "\n",
    "nuts_kernel = NUTS(elastic_linear_model)\n",
    "mcmc = MCMC(nuts_kernel, num_warmup=500, num_samples=500)\n",
    "rng_key = random.PRNGKey(0)\n",
    "mcmc.run(rng_key, y=y, X=X)"
   ],
   "metadata": {
    "collapsed": false
   }
  },
  {
   "cell_type": "code",
   "execution_count": null,
   "outputs": [],
   "source": [
    "posterior_samples = mcmc.get_samples()\n",
    "beta_mu = jnp.mean(posterior_samples['beta'], axis=0)\n",
    "plt.step(range(len(beta)), beta,  where='mid', lw=1)\n",
    "plt.plot(range(len(beta)), beta, '.')\n",
    "plt.plot(range(len(beta)), beta_mu, 'g*')\n",
    "plt.xlabel(r'$\\beta$')"
   ],
   "metadata": {
    "collapsed": false
   }
  },
  {
   "cell_type": "code",
   "execution_count": null,
   "outputs": [],
   "source": [
    "import arviz as az\n",
    "\n",
    "data = az.from_numpyro(mcmc)\n",
    "az.plot_trace(data, compact=True, figsize=(15, 25));"
   ],
   "metadata": {
    "collapsed": false
   }
  }
 ],
 "metadata": {
  "kernelspec": {
   "display_name": "Python 3",
   "language": "python",
   "name": "python3"
  },
  "language_info": {
   "codemirror_mode": {
    "name": "ipython",
    "version": 2
   },
   "file_extension": ".py",
   "mimetype": "text/x-python",
   "name": "python",
   "nbconvert_exporter": "python",
   "pygments_lexer": "ipython2",
   "version": "2.7.6"
  }
 },
 "nbformat": 4,
 "nbformat_minor": 0
}
