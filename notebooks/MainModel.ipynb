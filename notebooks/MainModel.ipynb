{
 "cells": [
  {
   "cell_type": "code",
   "execution_count": null,
   "id": "initial_id",
   "metadata": {
    "collapsed": true
   },
   "outputs": [],
   "source": [
    "from PacTimeOrig.data import DataHandling as dh\n",
    "from PacTimeOrig.data import DataProcessing as dp\n",
    "from PacTimeOrig.Attractor import base as attractor\n",
    "from PacTimeOrig.utils import processing as proc\n",
    "from PacTimeOrig.models import NNtf,io\n",
    "import keras.backend as K\n",
    "import scipy\n",
    "\n",
    "import numpy as np\n",
    "import tensorflow as tf\n",
    "from tensorflow.keras.models import Model\n",
    "from tensorflow.keras.layers import Input, LSTM,GRU, Dense, Lambda,TimeDistributed,SimpleRNN,LeakyReLU\n",
    "import matplotlib.pyplot as plt\n",
    "\n",
    "import torch.optim as optim\n",
    "import torch.nn as nn\n",
    "from torch.utils.data import Dataset, DataLoader\n",
    "\n",
    "\n",
    "\n"
   ]
  },
  {
   "metadata": {
    "ExecuteTime": {
     "end_time": "2024-10-31T20:56:36.534020Z",
     "start_time": "2024-10-31T20:56:35.515763Z"
    }
   },
   "cell_type": "code",
   "source": [
    "#load datafile\n",
    "datafile=dh.dataloader(sess=1)\n",
    "\n",
    "#Get session variables\n",
    "sessvars=dh.getvars(datafile)\n",
    "\n",
    "#Get position data\n",
    "positions=dh.retrievepositions(datafile,rescale = [960.00,540.00])\n",
    "# positions=dh.retrievepositions(datafile,rescale = None)\n",
    "\n",
    "kinematics=dp.computederivatives(positions, vartodiff=['selfXpos','selfYpos','prey1Xpos','prey1Ypos','prey2Xpos','prey2Ypos'], dt=1.0/60.0)\n",
    "kinematics,sessvars=dh.subselect(kinematics,sessvars,trialtype='2')\n",
    "kinematics=dh.dropcols(kinematics, columns_to_drop=['predXpos','predYpos','selfXaccel','selfYaccel','prey1Xaccel','prey1Yaccel','prey2Xaccel','prey2Yaccel'])\n",
    "\n"
   ],
   "id": "ce60889e20456027",
   "outputs": [
    {
     "ename": "NameError",
     "evalue": "name 'dh' is not defined",
     "output_type": "error",
     "traceback": [
      "\u001B[0;31m---------------------------------------------------------------------------\u001B[0m",
      "\u001B[0;31mNameError\u001B[0m                                 Traceback (most recent call last)",
      "Cell \u001B[0;32mIn[1], line 2\u001B[0m\n\u001B[1;32m      1\u001B[0m \u001B[38;5;66;03m#load datafile\u001B[39;00m\n\u001B[0;32m----> 2\u001B[0m datafile\u001B[38;5;241m=\u001B[39m\u001B[43mdh\u001B[49m\u001B[38;5;241m.\u001B[39mdataloader(sess\u001B[38;5;241m=\u001B[39m\u001B[38;5;241m1\u001B[39m)\n\u001B[1;32m      4\u001B[0m \u001B[38;5;66;03m#Get session variables\u001B[39;00m\n\u001B[1;32m      5\u001B[0m sessvars\u001B[38;5;241m=\u001B[39mdh\u001B[38;5;241m.\u001B[39mgetvars(datafile)\n",
      "\u001B[0;31mNameError\u001B[0m: name 'dh' is not defined"
     ]
    }
   ],
   "execution_count": 1
  },
  {
   "metadata": {},
   "cell_type": "markdown",
   "source": [
    "Add in reward information and time vector per trial for design matrix\n",
    "\n",
    "Create Ytrain for u(t+1)"
   ],
   "id": "d09230bc8f23951d"
  },
  {
   "metadata": {},
   "cell_type": "code",
   "outputs": [],
   "execution_count": null,
   "source": [
    "Xdsgn=kinematics\n",
    "for trial in range(len(Xdsgn)):\n",
    "    Xdsgn[trial]['val1'] = np.repeat(sessvars.iloc[trial].NPCvalA,len(kinematics[trial]))\n",
    "    Xdsgn[trial]['val2'] = np.repeat(sessvars.iloc[trial].NPCvalB,len(kinematics[trial]))\n",
    "    \n",
    "#Switch reward positions so highest value is always in prey 1 slot\n",
    "Xdsgn=dh.rewardalign(Xdsgn)\n",
    "Xdsgn = [df[sorted(df.columns)] for df in Xdsgn]\n",
    "\n",
    "\n",
    "rwds=np.sort(sessvars['NPCvalA'].unique())\n",
    "for trial in range(len(Xdsgn)):\n",
    "    #Make one hot columns\n",
    "    for i in range(len(sessvars['NPCvalA'].unique())):\n",
    "        Xdsgn[trial]['val1'+str(i+1)]=np.zeros((len(kinematics[trial]),1)).astype(int)\n",
    "        Xdsgn[trial]['val2'+str(i+1)]=np.zeros((len(kinematics[trial]),1)).astype(int)\n",
    "    \n",
    "    Xdsgn[trial]['val1'+str((np.where(Xdsgn[trial].val1[0]==rwds)[0]+1)[0])]=1\n",
    "    Xdsgn[trial]['val2'+str((np.where(Xdsgn[trial].val2[0]==rwds)[0]+1)[0])]=1\n",
    "    Xdsgn[trial].drop(columns=['val1','val2'], inplace=True)\n",
    "\n",
    "\n",
    "\n",
    "Ytrain=list()\n",
    "for trial in range(len(Xdsgn)):\n",
    "    Ytrain.append(np.vstack([Xdsgn[trial].selfXvel,Xdsgn[trial].selfYvel]).transpose())\n",
    "    Xdsgn[trial]=Xdsgn[trial].drop(columns=['selfXvel','selfYvel'],axis=1)\n",
    "\n",
    "Xdsgn=[df.to_numpy() for df in Xdsgn]    \n",
    "# \n",
    "# # #Make from 1:end-1\n",
    "Xdsgn = [arr[:-1, :] for arr in Xdsgn]\n",
    "# # \n",
    "# # #Make from 2:end\n",
    "# # \n",
    "Ytrain = [arr[1:, :] for arr in Ytrain]\n",
    "\n",
    "Ytrain=proc.smoothing(Ytrain,11)\n",
    "\n",
    "\n",
    "\n",
    "for trial in range(len(Ytrain)):\n",
    "    Ytrain[trial]=np.gradient(Ytrain[trial],axis=0)"
   ],
   "id": "8bcb354e75bda0cc"
  },
  {
   "metadata": {},
   "cell_type": "code",
   "outputs": [],
   "execution_count": null,
   "source": [
    "batch_size = 20\n",
    "val_batch_size = 20\n",
    "val_data_gen = io.VariableLengthDataGenerator(Xdsgn[201:], Ytrain[201:], val_batch_size)\n",
    "data_gen=io.VariableLengthDataGenerator(Xdsgn[0:200],Ytrain[0:200],batch_size)\n",
    "\n",
    "model=NN.mod3(input_size=20,units=[128,128,32,2],celltype='simpleRNN')\n",
    "# model=mod2()\n",
    "\n",
    "# Compile the model\n",
    "model.compile(optimizer='adam', loss='mean_squared_error')\n",
    "\n",
    "# Train the model using your data generators\n",
    "model.fit(data_gen, validation_data=val_data_gen, epochs=20)\n",
    "\n",
    "\n",
    "\n",
    "trial=35\n",
    "# Predict a single trials outputs\n",
    "single_trial = np.expand_dims(Xdsgn[trial], axis=1)\n",
    "fig, (ax1, ax2) = plt.subplots(2)\n",
    "ax1.plot(60*np.gradient(model.predict(single_trial).squeeze(),axis=0))\n",
    "# ax1.plot(model.predict(single_trial).squeeze())\n",
    "ax2.plot((Ytrain[trial]))\n",
    "\n",
    "# PREDICT A LATENT DATA from a specific layer\n",
    "# Create a model to output latent dynamics for a given input\n",
    "latent_model = Model(inputs=model.input, outputs=model.get_layer('time_distributed').output)  \n",
    "\n",
    "# Predict latent dynamics for the test set\n",
    "latent_dynamics_output = latent_model.predict(np.expand_dims(Xdsgn[0], axis=0))  # This will give you the latent space\n",
    "\n"
   ],
   "id": "fcec63a5b4ac95b0"
  },
  {
   "metadata": {},
   "cell_type": "code",
   "outputs": [],
   "execution_count": null,
   "source": [
    "# #Create Torch CTRNN\n",
    "# model=NN.RNNNet(input_size=12, hidden_size=64,\n",
    "#              output_size=2, dt=16.67,tau=50)\n",
    "# # Use Adam optimizer\n",
    "# optimizer = optim.Adam(model.parameters(), lr=0.01)\n",
    "# criterion = nn.MSELoss()\n",
    "# \n",
    "# # Create the dataset and dataloader\n",
    "# dataset = io.VariableLengthDataset(Xdsgn, Ytrain)\n",
    "# dataloader=io.torchloader(dataset)\n",
    "# trainmask(model,2,criterion,optimizer,dataloader,epochs=10)"
   ],
   "id": "15dfe44bcf0deb24"
  },
  {
   "metadata": {},
   "cell_type": "code",
   "outputs": [],
   "execution_count": null,
   "source": [
    "# import torch.nn.functional as F\n",
    "# def compute_masked_loss(output, target, criterion):\n",
    "#     \"\"\"\n",
    "#     Computes MSE loss, ignoring padded values (where target is zero).\n",
    "#     \"\"\"\n",
    "#     mask = target != 0  # Create a mask where target is not zero (ignoring padding)\n",
    "#     masked_output = output[mask]\n",
    "#     masked_target = target[mask]\n",
    "#     return criterion(masked_output, masked_target)\n",
    "# # Training loop\n",
    "# running_loss = 0\n",
    "# for epoch in range(10):\n",
    "#     for inputs, labels,lengths in dataloader:\n",
    "#         # Move inputs and labels to float type if necessary\n",
    "#         inputs = inputs.float()\n",
    "#         labels = labels.float()\n",
    "#         # Zero the gradient buffers\n",
    "#         optimizer.zero_grad()\n",
    "#         # Forward pass\n",
    "#         output, _ = model(inputs)\n",
    "#         # Reshape the output if necessary (depends on how the output is structured in your network)\n",
    "#         output = output.view(-1, output_size)  # Ensure output has the correct shape\n",
    "#         # Compute loss using a masked approach\n",
    "#         loss = compute_masked_loss(output, labels.view(-1, output_size), criterion)\n",
    "#         # Backward pass\n",
    "#         loss.backward()\n",
    "#         optimizer.step()\n",
    "#         # Track loss\n",
    "#         running_loss += loss.item()\n",
    "#     # Logging\n",
    "#     if epoch % 100 == 99:\n",
    "#         avg_loss = running_loss / (len(dataloader) * 100)  # Average over all batches in 100 epochs\n",
    "#         print(f'Epoch {epoch + 1}, Loss: {avg_loss:.4f}')\n",
    "#         running_loss = 0"
   ],
   "id": "fa9250091da9c74c"
  },
  {
   "metadata": {},
   "cell_type": "markdown",
   "source": [
    "TO DO: add smoothness or sparisty losses and regularization into firing.\n",
    "# skip connnections from input direct to output\n",
    "# Latent layer\n",
    "# multiple lstm layers\n",
    "# CTRNN\n",
    "# Try using u(t)"
   ],
   "id": "bcdfb30a7e5212f5"
  },
  {
   "metadata": {},
   "cell_type": "markdown",
   "source": "",
   "id": "66a4e51498dd59fb"
  },
  {
   "metadata": {},
   "cell_type": "markdown",
   "source": "With skip connecitons",
   "id": "c1bf8eadcb3ce957"
  },
  {
   "metadata": {},
   "cell_type": "code",
   "outputs": [],
   "execution_count": null,
   "source": [
    "from tensorflow.keras.layers import Add\n",
    "\n",
    "# RNN/LSTM model\n",
    "rnn_output = LSTM(units=128, return_sequences=True)(inputs)\n",
    "\n",
    "# Skip connection directly from input to control output\n",
    "control_output = Dense(units=2,activation='tanh')(rnn_output)\n",
    "skip_connection = Dense(units=2)(inputs)\n",
    "control_output = Add()([control_output, skip_connection])\n",
    "# Define the model\n",
    "model = Model(inputs=inputs, outputs=control_output)\n",
    "\n",
    "# Compile the model\n",
    "model.compile(optimizer='adam', loss='mean_squared_error')\n",
    "model.fit(data_gen, validation_data=val_data_gen, epochs=100)\n",
    "\n",
    "# Predict a single trials outputs\n",
    "single_trial = np.expand_dims(Xdsgn[42], axis=1)\n",
    "plt.plot(model.predict(single_trial).squeeze())"
   ],
   "id": "6310ea4a19c38b19"
  }
 ],
 "metadata": {
  "kernelspec": {
   "display_name": "Python 3",
   "language": "python",
   "name": "python3"
  },
  "language_info": {
   "codemirror_mode": {
    "name": "ipython",
    "version": 2
   },
   "file_extension": ".py",
   "mimetype": "text/x-python",
   "name": "python",
   "nbconvert_exporter": "python",
   "pygments_lexer": "ipython2",
   "version": "2.7.6"
  }
 },
 "nbformat": 4,
 "nbformat_minor": 5
}
