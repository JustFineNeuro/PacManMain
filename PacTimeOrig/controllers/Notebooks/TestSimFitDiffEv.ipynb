{
 "cells": [
  {
   "cell_type": "code",
   "execution_count": null,
   "id": "initial_id",
   "metadata": {
    "collapsed": true
   },
   "outputs": [],
   "source": [
    "import pandas as pd\n",
    "import numpy as np\n",
    "import jax.numpy as jnp\n",
    "import numpyro\n",
    "import matplotlib.pyplot as plt\n",
    "\n",
    "from PacTimeOrig.data import DataHandling as dh\n",
    "from PacTimeOrig.data import DataProcessing as dp\n",
    "from PacTimeOrig.controllers import simulator as sim\n",
    "from PacTimeOrig.controllers import models as conmod\n",
    "from PacTimeOrig.controllers import utils as ut\n",
    "\n",
    "# from PacTimeOrig.controllers import JaxMod\n",
    "from PacTimeOrig.data import scripts\n"
   ]
  },
  {
   "metadata": {},
   "cell_type": "markdown",
   "source": "Load data and create dataframes",
   "id": "38b74dcba75466e6"
  },
  {
   "metadata": {},
   "cell_type": "code",
   "outputs": [],
   "execution_count": null,
   "source": [
    "sess=0\n",
    "cfgparams={'area':'dACC','session':sess+1,'subj':'H','typeswitch':1,'rbfs':[20,30,40,50,60,70,80],'restarts':6}\n",
    "\n",
    "Xdsgn, kinematics, sessvars, psth = scripts.monkey_run(cfgparams)\n"
   ],
   "id": "5735c45f2edcee4b"
  },
  {
   "metadata": {},
   "cell_type": "markdown",
   "source": "Test control simulator",
   "id": "85b33440806dc19d"
  },
  {
   "metadata": {},
   "cell_type": "code",
   "outputs": [],
   "execution_count": null,
   "source": [
    "trial=3\n",
    "player_pos=np.vstack((Xdsgn[trial].selfXpos,Xdsgn[trial].selfYpos)).transpose()\n",
    "pry1_pos=np.vstack((Xdsgn[trial].prey1Xpos,Xdsgn[trial].prey1Ypos)).transpose()\n",
    "pry2_pos=np.vstack((Xdsgn[trial].prey2Xpos,Xdsgn[trial].prey2Ypos)).transpose()\n",
    "\n",
    "player_vel=np.vstack((Xdsgn[trial].selfXvel,Xdsgn[trial].selfYvel)).transpose()\n",
    "pry1_vel=np.vstack((Xdsgn[trial].prey1Xvel,Xdsgn[trial].prey1Yvel)).transpose()\n",
    "pry2_vel=np.vstack((Xdsgn[trial].prey2Xvel,Xdsgn[trial].prey2Yvel)).transpose()\n",
    "\n",
    "pry1_accel=np.vstack((Xdsgn[trial].prey1Xaccel,Xdsgn[trial].prey1Yaccel)).transpose()\n",
    "pry2_accel=np.vstack((Xdsgn[trial].prey2Xaccel,Xdsgn[trial].prey2Yaccel)).transpose()"
   ],
   "id": "4c2295cb543e5ed4"
  },
  {
   "metadata": {},
   "cell_type": "markdown",
   "source": "Prep inputs",
   "id": "f6097f0c912433d9"
  },
  {
   "metadata": {},
   "cell_type": "code",
   "outputs": [],
   "execution_count": null,
   "source": [
    "A=1.0\n",
    "B=1.0/60.0\n",
    "L1=1.6\n",
    "L2=0.8\n",
    "outputs=sim.controller_sim_p(6,player_pos,pry1_pos,pry2_pos,L1,L2,A,B,gpscaler=3)\n",
    "tmp=ut.make_timeline(outputs)\n",
    "\n",
    "\n",
    "A, B = conmod.define_system_parameters()\n",
    "num_rbfs = 30\n",
    "\n",
    "inputs=conmod.prepare_inputs(A, B, outputs['x'], outputs['uout'], pry1_pos, pry2_pos, tmp, num_rbfs, outputs['x'][:,2:], pry1_vel, pry2_vel, ctrltype='p',usingJax=True)\n",
    "\n",
    "\n",
    "loss_function = conmod.create_loss_function_p(conmod.generate_rbf_basis)\n",
    "grad_loss = conmod.compute_loss_gradient(loss_function)\n",
    "(L1_opt, L2_opt), best_params, best_loss = conmod.outer_optimization_p(inputs, conmod.inner_optimization_p, loss_function, grad_loss,maxiter=30,tolerance=1e-3,opttype='global')\n",
    "\n",
    "weights=best_params[0:-1][0]\n",
    "widths=best_params[-1]\n",
    "w1,w2=conmod.generate_sim_switch(inputs, widths, weights)\n",
    "\n",
    "\n",
    "\n",
    "\n"
   ],
   "id": "16d601f421e236f8"
  },
  {
   "metadata": {},
   "cell_type": "markdown",
   "source": "# Test position velocity error controller (Sim then fit)",
   "id": "b938f2cb362c360c"
  },
  {
   "metadata": {},
   "cell_type": "code",
   "outputs": [],
   "execution_count": null,
   "source": [
    "\n",
    "L1=np.array((1.6,0.4))\n",
    "L2=np.array((2,0.5))\n",
    "outputs=sim.controller_sim_pv(6,player_pos,player_vel,pry1_pos,pry1_vel,pry2_pos,pry2_vel,L1,L2,None,None,gpscaler=3)\n",
    "\n",
    "#Make time\n",
    "tmp=ut.make_timeline(outputs)\n",
    "\n",
    "\n",
    "#\n",
    "num_rbfs = 30\n",
    "\n",
    "\n",
    "A,B=conmod.define_system_parameters(ctrltype='pv')\n",
    "inputs=conmod.prepare_inputs(A, B, outputs['x'], outputs['uout'], pry1_pos, pry2_pos, tmp, num_rbfs, outputs['x'][:,2:], pry1_vel, pry2_vel, ctrltype='pv',usingJax=True)\n",
    "\n",
    "loss_function = conmod.create_loss_function_pv(conmod.generate_rbf_basis)\n",
    "grad_loss = conmod.compute_loss_gradient(loss_function)\n",
    "(L1_opt, L2_opt), best_params, best_loss = conmod.outer_optimization_pv(inputs, conmod.inner_optimization_pv, loss_function, grad_loss,maxiter=30,opttype='global')\n",
    "\n",
    "\n",
    "weights = best_params[0:-1][0]\n",
    "widths = best_params[-1]\n",
    "w1,w2 = conmod.generate_sim_switch(inputs, widths, weights)\n",
    "\n",
    "\n"
   ],
   "id": "ea0f5b497328efd"
  },
  {
   "metadata": {},
   "cell_type": "markdown",
   "source": "integral error controller ",
   "id": "2620ddd71b928ca5"
  },
  {
   "metadata": {},
   "cell_type": "markdown",
   "source": "",
   "id": "5ce5d9c09cb9f34c"
  },
  {
   "metadata": {},
   "cell_type": "code",
   "outputs": [],
   "execution_count": null,
   "source": [
    "L1=np.array((4.1,0.4,1.4))\n",
    "L2=np.array((2,0.5,0.1))\n",
    "outputs=sim.controller_sim_pvi(6,player_pos,player_vel,pry1_pos,pry1_vel,pry2_pos,pry2_vel,L1,L2,A=None,B=None,gpscaler=4)\n",
    "\n",
    "\n",
    "\n",
    "#Make time\n",
    "tmp=ut.make_timeline(outputs)\n",
    "\n",
    "\n",
    "#\n",
    "num_rbfs = 50\n",
    "\n",
    "\n",
    "A,B=conmod.define_system_parameters(ctrltype='pvi')\n",
    "inputs=conmod.prepare_inputs(A, B, outputs['x'], outputs['uout'], pry1_pos, pry2_pos, tmp, num_rbfs, outputs['x'][:,2:], pry1_vel, pry2_vel, ctrltype='pvi',usingJax=True)\n",
    "\n",
    "\n",
    "\n",
    "loss_function = conmod.create_loss_function_pvi(conmod.generate_rbf_basis)\n",
    "grad_loss = conmod.compute_loss_gradient(loss_function)\n",
    "(L1_opt_local, L2_opt_local), best_params, best_loss = conmod.outer_optimization_pvi(inputs, conmod.inner_optimization_pvi, loss_function, grad_loss,maxiter=30,opttype='local')\n",
    "\n",
    "\n",
    "weights = best_params[0:-1][0]\n",
    "widths = best_params[-1]\n",
    "w1,w2 = conmod.generate_sim_switch(inputs, widths, weights)\n",
    "\n",
    "\n",
    "\n"
   ],
   "id": "4548c48a6d64f63e"
  },
  {
   "metadata": {},
   "cell_type": "markdown",
   "source": "# simulate control with P,V,I,F errors",
   "id": "bde13a251df23ef1"
  },
  {
   "metadata": {},
   "cell_type": "code",
   "outputs": [],
   "execution_count": null,
   "source": [
    "\n",
    "L1=np.array((4.1,0.4,1.4,2))\n",
    "L2=np.array((2,0.5,0.1,1))\n",
    "outputs=sim.controller_sim_pvif(6, player_pos, player_vel, pry1_pos, pry1_vel,pry1_accel, pry2_pos, pry2_vel, pry2_accel, L1, L2, A=None, B=None,dt=1.0/60.0,Ie_min=-10.0,Ie_max=10.0, gpscaler=3)\n",
    "\n",
    "#Make time\n",
    "tmp=ut.make_timeline(outputs)\n",
    "\n",
    "#\n",
    "num_rbfs = 24\n",
    "\n",
    "A,B=conmod.define_system_parameters(ctrltype='pvi')\n",
    "inputs=conmod.prepare_inputs(A, B, outputs['x'], outputs['uout'], pry1_pos, pry2_pos, tmp, num_rbfs, outputs['x'][:,2:], pry1_vel, pry2_vel, pry1_accel,pry2_accel,ctrltype='pvif',usingJax=True)\n",
    "\n",
    "\n",
    "loss_function = conmod.create_loss_function_pvif(conmod.generate_rbf_basis)\n",
    "\n",
    "grad_loss = conmod.compute_loss_gradient(loss_function)\n",
    "\n",
    "(L1_opt, L2_opt), best_params, best_loss = conmod.outer_optimization_pvif(inputs, conmod.inner_optimization_pvif, loss_function, grad_loss,maxiter=30,opttype='global')\n",
    "\n",
    "weights = best_params[0:-1][0]\n",
    "widths = best_params[-1]\n",
    "w1,w2 = conmod.generate_sim_switch(inputs, widths, weights)"
   ],
   "id": "4c32c9adbba1eb7a"
  }
 ],
 "metadata": {
  "kernelspec": {
   "display_name": "Python 3",
   "language": "python",
   "name": "python3"
  },
  "language_info": {
   "codemirror_mode": {
    "name": "ipython",
    "version": 2
   },
   "file_extension": ".py",
   "mimetype": "text/x-python",
   "name": "python",
   "nbconvert_exporter": "python",
   "pygments_lexer": "ipython2",
   "version": "2.7.6"
  }
 },
 "nbformat": 4,
 "nbformat_minor": 5
}
