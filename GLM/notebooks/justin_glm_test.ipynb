{
 "cells": [
  {
   "cell_type": "code",
   "execution_count": 11,
   "id": "e1e2a1fc-9345-4f35-9b14-2f0f06bdd577",
   "metadata": {},
   "outputs": [],
   "source": [
    "# module import\n",
    "from scipy.io import loadmat\n",
    "import numpy as np\n",
    "import os\n",
    "from glob import glob\n",
    "import h5py\n",
    "from GLM.utils import smoothing_penalty_matrix\n",
    "from GLM.glm import GaussianGLMEstimator\n",
    "from scipy.io import loadmat\n",
    "import mat73\n",
    "import os\n",
    "import numpy as np\n",
    "import pandas as pd\n",
    "from GLM import glm,utils\n",
    "import dill as pickle\n",
    "from ChangeOfMind.functions import processing as proc\n",
    "from sklearn.model_selection import GridSearchCV\n",
    "from sklearn.metrics import make_scorer\n",
    "\n",
    "import patsy"
   ]
  },
  {
   "cell_type": "code",
   "execution_count": 3,
   "id": "bdf8aa33-352c-458f-b4b7-718268b3d73f",
   "metadata": {},
   "outputs": [],
   "source": [
    "x0, y0 = 25, 25  # Center of place field\n",
    "sigma = 5  # Standard deviation of Gaussian\n",
    "max_rate = 20  # Maximum firing rate (spikes per time step)\n",
    "# Generate movement trajectory\n",
    "num_steps = 5000\n",
    "x_positions = np.random.rand(num_steps)* 50\n",
    "y_positions = np.random.rand(num_steps)* 50\n",
    "# Compute firing rate based on 2D Gaussian\n",
    "def gaussian_firing_rate(x, y, x0, y0, sigma, max_rate):\n",
    "    return max_rate * np.exp(-((x - x0)**2 + (y - y0)**2) / (2 * sigma**2))\n",
    "firing_rates = gaussian_firing_rate(x_positions, y_positions, x0, y0, sigma, max_rate)"
   ]
  },
  {
   "cell_type": "code",
   "execution_count": 22,
   "id": "af162e5e-8780-4e66-b1b6-0af6543161e9",
   "metadata": {},
   "outputs": [],
   "source": [
    "# specify knots\n",
    "bins = 10\n",
    "knots = np.linspace(x_positions.min() + 1, x_positions.max() - 1, bins+1)"
   ]
  },
  {
   "cell_type": "code",
   "execution_count": 33,
   "id": "2cd4212a-5316-434d-a928-0695e6f4cc6f",
   "metadata": {},
   "outputs": [],
   "source": [
    "# create formula\n",
    "formulas = []\n",
    "formulas.append(\"y~1\")\n",
    "# formulas.append(f\"y~te(cr(x_positions,degree=0,knots={knots}), bs(y_positions,degree=0,knots={knots}))\")\n",
    "formulas.append(f\"y~te(cr(x_positions,df=7), cr(y_positions,df=7))\")"
   ]
  },
  {
   "cell_type": "code",
   "execution_count": 35,
   "id": "55464984-0eb4-44fc-8965-8e0f5bad55a2",
   "metadata": {},
   "outputs": [],
   "source": [
    "# create model\n",
    "model = GaussianGLMEstimator()"
   ]
  },
  {
   "cell_type": "code",
   "execution_count": 36,
   "id": "65e6ac23-3a84-4dff-8d7b-b61056bb53ae",
   "metadata": {},
   "outputs": [],
   "source": "X_train = pd.DataFrame({\"x_positions\": x_positions, \"y_positions\": y_positions})"
  },
  {
   "cell_type": "code",
   "execution_count": 37,
   "id": "807f8b12-c496-46f1-a7f3-161335a739ba",
   "metadata": {},
   "outputs": [
    {
     "ename": "SyntaxError",
     "evalue": "invalid syntax. Perhaps you forgot a comma? (<unknown>, line 1)",
     "output_type": "error",
     "traceback": [
      "Traceback \u001B[0;36m(most recent call last)\u001B[0m:\n",
      "\u001B[0m  File \u001B[1;32m~/miniforge3/envs/hayden_base/lib/python3.10/site-packages/IPython/core/interactiveshell.py:3577\u001B[0m in \u001B[1;35mrun_code\u001B[0m\n    exec(code_obj, self.user_global_ns, self.user_ns)\u001B[0m\n",
      "\u001B[0m  Cell \u001B[1;32mIn[37], line 1\u001B[0m\n    model.fit(X_train, firing_rates)\u001B[0m\n",
      "\u001B[0m  File \u001B[1;32m~/Desktop/work/Baylor_Hayden/language_project/pacman_files/notebooks/neuroglm/GLM/glm.py:339\u001B[0m in \u001B[1;35mfit\u001B[0m\n    X_transformed = patsy_transformer.fit_transform(X, y)\u001B[0m\n",
      "\u001B[0m  File \u001B[1;32m~/miniforge3/envs/hayden_base/lib/python3.10/site-packages/sklearn/utils/_set_output.py:319\u001B[0m in \u001B[1;35mwrapped\u001B[0m\n    data_to_wrap = f(self, X, *args, **kwargs)\u001B[0m\n",
      "\u001B[0m  File \u001B[1;32m~/miniforge3/envs/hayden_base/lib/python3.10/site-packages/sklearn/base.py:921\u001B[0m in \u001B[1;35mfit_transform\u001B[0m\n    return self.fit(X, y, **fit_params).transform(X)\u001B[0m\n",
      "\u001B[0m  File \u001B[1;32m~/Desktop/work/Baylor_Hayden/language_project/pacman_files/notebooks/neuroglm/GLM/utils.py:20\u001B[0m in \u001B[1;35mfit\u001B[0m\n    y_design, X_design = dmatrices(self.formula, data, return_type='dataframe')\u001B[0m\n",
      "\u001B[0m  File \u001B[1;32m~/miniforge3/envs/hayden_base/lib/python3.10/site-packages/patsy/highlevel.py:319\u001B[0m in \u001B[1;35mdmatrices\u001B[0m\n    (lhs, rhs) = _do_highlevel_design(\u001B[0m\n",
      "\u001B[0m  File \u001B[1;32m~/miniforge3/envs/hayden_base/lib/python3.10/site-packages/patsy/highlevel.py:164\u001B[0m in \u001B[1;35m_do_highlevel_design\u001B[0m\n    design_infos = _try_incr_builders(\u001B[0m\n",
      "\u001B[0m  File \u001B[1;32m~/miniforge3/envs/hayden_base/lib/python3.10/site-packages/patsy/highlevel.py:56\u001B[0m in \u001B[1;35m_try_incr_builders\u001B[0m\n    return design_matrix_builders(\u001B[0m\n",
      "\u001B[0m  File \u001B[1;32m~/miniforge3/envs/hayden_base/lib/python3.10/site-packages/patsy/build.py:743\u001B[0m in \u001B[1;35mdesign_matrix_builders\u001B[0m\n    factor_states = _factors_memorize(all_factors, data_iter_maker, eval_env)\u001B[0m\n",
      "\u001B[0m  File \u001B[1;32m~/miniforge3/envs/hayden_base/lib/python3.10/site-packages/patsy/build.py:393\u001B[0m in \u001B[1;35m_factors_memorize\u001B[0m\n    which_pass = factor.memorize_passes_needed(state, eval_env)\u001B[0m\n",
      "\u001B[0m  File \u001B[1;32m~/miniforge3/envs/hayden_base/lib/python3.10/site-packages/patsy/eval.py:504\u001B[0m in \u001B[1;35mmemorize_passes_needed\u001B[0m\n    subset_names = [name for name in ast_names(self.code) if name in env_namespace]\u001B[0m\n",
      "\u001B[0m  File \u001B[1;32m~/miniforge3/envs/hayden_base/lib/python3.10/site-packages/patsy/eval.py:504\u001B[0m in \u001B[1;35m<listcomp>\u001B[0m\n    subset_names = [name for name in ast_names(self.code) if name in env_namespace]\u001B[0m\n",
      "\u001B[0m  File \u001B[1;32m~/miniforge3/envs/hayden_base/lib/python3.10/site-packages/patsy/eval.py:111\u001B[0m in \u001B[1;35mast_names\u001B[0m\n    for node in ast.walk(ast.parse(code)):\u001B[0m\n",
      "\u001B[0;36m  File \u001B[0;32m~/miniforge3/envs/hayden_base/lib/python3.10/ast.py:50\u001B[0;36m in \u001B[0;35mparse\u001B[0;36m\n\u001B[0;31m    return compile(source, filename, mode, flags,\u001B[0;36m\n",
      "\u001B[0;36m  File \u001B[0;32m<unknown>:1\u001B[0;36m\u001B[0m\n\u001B[0;31m    te(bs(x_positions, degree=0, knots=[1.01206856 5.81082227 10.60957599 15.40832971 20.20708342 25.00583714 29.80459085 34.60334457 39.40209829 44.200852 48.99960572]), bs(y_positions, degree=0, knots=[1.01206856 5.81082227 10.60957599 15.40832971 20.20708342 25.00583714 29.80459085 34.60334457 39.40209829 44.200852 48.99960572]))\u001B[0m\n\u001B[0m                                        ^\u001B[0m\n\u001B[0;31mSyntaxError\u001B[0m\u001B[0;31m:\u001B[0m invalid syntax. Perhaps you forgot a comma?\n"
     ]
    }
   ],
   "source": [
    "smooth_lambdas = [0.0001, 0.001, 0.01, 0.1,1.0]\n",
    "\n",
    "# Set up the parameter grid\n",
    "param_grid = {\n",
    "    'formula': formulas,  # Different model formulas\n",
    "    'smooth_lambda': smooth_lambdas  # Different regularization strengths\n",
    "}\n",
    "\n",
    "glm_model = glm.GaussianGLMEstimator()\n",
    "        \n",
    "# Use GridSearchCV for cross-validation\n",
    "grid_search = GridSearchCV(\n",
    "    estimator=glm_model,\n",
    "    param_grid=param_grid,\n",
    "    scoring=make_scorer(glm.gaussian_nll_scorer, greater_is_better=False),  # Use Poisson NLL\n",
    "    cv=5,  # 5-fold cross-validation\n",
    "    n_jobs=-1  # Use multiple CPU cores\n",
    ")\n",
    "\n",
    "# Fit GridSearchCV on the dataset\n",
    "grid_search.fit(X_train, firing_rates)\n"
   ]
  },
  {
   "cell_type": "code",
   "execution_count": null,
   "id": "a8ec862f-1bfd-4b5d-b2fb-af07d334a2c1",
   "metadata": {},
   "outputs": [],
   "source": []
  }
 ],
 "metadata": {
  "kernelspec": {
   "display_name": "Python 3 (hayden_base)",
   "language": "python",
   "name": "hayden_base"
  },
  "language_info": {
   "codemirror_mode": {
    "name": "ipython",
    "version": 3
   },
   "file_extension": ".py",
   "mimetype": "text/x-python",
   "name": "python",
   "nbconvert_exporter": "python",
   "pygments_lexer": "ipython3",
   "version": "3.10.13"
  }
 },
 "nbformat": 4,
 "nbformat_minor": 5
}
