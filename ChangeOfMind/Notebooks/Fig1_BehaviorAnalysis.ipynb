{
 "cells": [
  {
   "metadata": {},
   "cell_type": "markdown",
   "source": [
    "# Behavioral analysis\n",
    "1. Best fit Model distributions overall and per subject (plot)\n",
    "2. Example fits\n",
    "3. Behavioral Switching GLM\n",
    "4. Control analysis on Wt"
   ],
   "id": "b1cfad396a3a16a4"
  },
  {
   "cell_type": "code",
   "id": "initial_id",
   "metadata": {
    "collapsed": true,
    "ExecuteTime": {
     "end_time": "2024-12-03T15:52:52.224974Z",
     "start_time": "2024-12-03T15:52:52.222524Z"
    }
   },
   "source": [
    "import os\n",
    "import numpy as np\n",
    "import pandas as pd\n",
    "import dill as pickle\n",
    "from matplotlib import pyplot as plt\n",
    "from ChangeOfMind.functions import processing as proc\n",
    "from ChangeOfMind.Figures import Figure_Maker\n",
    "from sklearn.metrics import accuracy_score\n",
    "from sklearn.model_selection import cross_val_score\n",
    "\n",
    "from sklearn.model_selection import train_test_split\n",
    "from sklearn.linear_model import LogisticRegression,LogisticRegressionCV\n",
    "import patsy as pt\n",
    "from GLM import glm\n",
    "from GLM import utils as ut\n",
    "from GLM import DesignMaker as dm\n",
    "\n",
    "import warnings\n",
    "\n",
    "warnings.filterwarnings(\"ignore\")\n",
    "\n",
    "modeltype='logit'\n",
    "modelconst='cv'\n",
    "#"
   ],
   "outputs": [],
   "execution_count": 2
  },
  {
   "metadata": {},
   "cell_type": "code",
   "outputs": [],
   "execution_count": null,
   "source": [
    "#uncomment to resave all data\n",
    "# proc.get_save_pickle_all(folder='/Users/user/PycharmProjects/PacManMain/ChangeOfMind/Files/')\n",
    "# proc.get_save_pickle_all_emu(folder='/Users/user/PycharmProjects/PacManMain/ChangeOfMind/Files/',trialtype='1')\n",
    "datum='/Users/user/PycharmProjects/PacManMain/ChangeOfMind/Files/AllData/workspace.pkl'\n",
    "ff=open(datum,'rb')\n",
    "dat=pickle.load(ff)"
   ],
   "id": "f1d17cb468c62ca8"
  },
  {
   "metadata": {},
   "cell_type": "markdown",
   "source": "# Figure 1: Make WT and pursuit plots",
   "id": "1ee43265b7308ffa"
  },
  {
   "metadata": {},
   "cell_type": "code",
   "outputs": [],
   "execution_count": null,
   "source": [
    "Figure_Maker.Fig_1_wt(dat['outputs_sess_nhp'],dat['Xd_sess_nhp'],subj_type='nhp')\n",
    "Figure_Maker.Fig_1_wt(dat['outputs_sess_emu'],dat['Xd_sess_emu'],subj_type='emu')\n",
    "\n",
    "Figure_Maker.Fig_1_wt_example(dat,n_samples=3,subj_type='nhp',folder='/Users/user/PycharmProjects/PacManMain/ChangeOfMind/Fig/')\n",
    "   \n",
    "Figure_Maker.Fig_1_wt_example(dat,n_samples=6,subj_type='emu',folder='/Users/user/PycharmProjects/PacManMain/ChangeOfMind/Fig/')"
   ],
   "id": "80237bb2fb6d56e1"
  },
  {
   "metadata": {},
   "cell_type": "markdown",
   "source": "# Run Bayesian mixed generalized linear mixed model\n",
   "id": "b94271b035c643d5"
  },
  {
   "metadata": {},
   "cell_type": "code",
   "outputs": [],
   "execution_count": null,
   "source": [
    "# Figure_Maker.Fig_1_behave_glm(dat,folder='/Users/user/PycharmProjects/PacManMain/ChangeOfMind/Fig/')\n",
    "\n",
    "Figure_Maker.Fig_1_behave_glm(dat,dobayes=True,folder='/Users/user/PycharmProjects/PacManMain/ChangeOfMind/Fig/')"
   ],
   "id": "276953b8ffbe1c7"
  }
 ],
 "metadata": {
  "kernelspec": {
   "display_name": "Python 3",
   "language": "python",
   "name": "python3"
  },
  "language_info": {
   "codemirror_mode": {
    "name": "ipython",
    "version": 2
   },
   "file_extension": ".py",
   "mimetype": "text/x-python",
   "name": "python",
   "nbconvert_exporter": "python",
   "pygments_lexer": "ipython2",
   "version": "2.7.6"
  }
 },
 "nbformat": 4,
 "nbformat_minor": 5
}
