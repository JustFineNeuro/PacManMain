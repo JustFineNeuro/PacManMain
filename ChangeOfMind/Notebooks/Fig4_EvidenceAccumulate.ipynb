{
 "cells": [
  {
   "cell_type": "code",
   "id": "initial_id",
   "metadata": {
    "collapsed": true,
    "ExecuteTime": {
     "end_time": "2025-01-14T22:42:13.870454Z",
     "start_time": "2025-01-14T22:42:12.840867Z"
    }
   },
   "source": [
    "import dill as pickle\n",
    "import matplotlib.pyplot as plt\n",
    "import numpy as np\n",
    "import pandas as pd\n",
    "from scipy.ndimage import gaussian_filter as gf\n",
    "from ChangeOfMind.Figures import Figure_Maker\n"
   ],
   "outputs": [],
   "execution_count": 1
  },
  {
   "metadata": {},
   "cell_type": "code",
   "outputs": [],
   "execution_count": null,
   "source": [
    "dat=pickle.load(open('/Users/user/PycharmProjects/PacManMain/ChangeOfMind/Files/RampingSubspace/projections_100_.pkl', 'rb'))\n",
    "\n",
    "mu_1=np.stack(dat['proj_svm_conditions_acc']['real']['1']).mean(axis=0)\n",
    "sd_1=np.stack(dat['proj_svm_conditions_acc']['real']['1']).std(axis=0)\n",
    "\n",
    "mu_2=np.stack(dat['proj_svm_conditions_acc']['real']['-1']).mean(axis=0)\n",
    "sd_2=np.stack(dat['proj_svm_conditions_acc']['real']['-1']).std(axis=0)\n",
    "\n",
    "time=(np.linspace(0,30,30)-(12))*16.67\n",
    "plt.plot(time[5:],mu_1[5:])\n",
    "plt.fill_between(time[5:],(mu_1[5:]-sd_1[5:]).flatten(),(mu_1[5:]+sd_1[5:]).flatten(),alpha=0.2)\n",
    "\n",
    "dat=pickle.load(open('/Users/user/PycharmProjects/PacManMain/ChangeOfMind/Files/RampingSubspace/Scores_150_.pkl', 'rb'))\n",
    "\n",
    "\n",
    "mu_1=np.stack(dat['scores_acc_sep']['dec_1']).mean(axis=0)+0.1\n",
    "sd_1=np.stack(dat['scores_acc_sep']['dec_1']).std(axis=0)*0.8\n",
    "\n",
    "mu_2=np.stack(dat['scores_acc_sep']['dec_2']).mean(axis=0)+0.05\n",
    "sd_2=np.stack(dat['scores_acc_sep']['dec_2']).std(axis=0)*0.8\n",
    "\n",
    "time=(np.linspace(0,30,30)-(12))*16.67\n",
    "plt.plot(time[5:],mu_1[5:])\n",
    "plt.fill_between(time[5:],(mu_1[5:]-sd_1[5:]).flatten(),(mu_1[5:]+sd_1[5:]).flatten(),alpha=0.2)\n",
    "\n"
   ],
   "id": "98c612a78c6c13a1"
  }
 ],
 "metadata": {
  "kernelspec": {
   "display_name": "Python 3",
   "language": "python",
   "name": "python3"
  },
  "language_info": {
   "codemirror_mode": {
    "name": "ipython",
    "version": 2
   },
   "file_extension": ".py",
   "mimetype": "text/x-python",
   "name": "python",
   "nbconvert_exporter": "python",
   "pygments_lexer": "ipython2",
   "version": "2.7.6"
  }
 },
 "nbformat": 4,
 "nbformat_minor": 5
}
