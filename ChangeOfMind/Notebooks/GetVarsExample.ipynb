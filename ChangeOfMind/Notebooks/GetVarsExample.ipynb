{
 "cells": [
  {
   "cell_type": "code",
   "execution_count": null,
   "id": "initial_id",
   "metadata": {
    "collapsed": true
   },
   "outputs": [],
   "source": [
    "import numpy as np\n",
    "from ChangeOfMind.functions import processing as proc\n"
   ]
  },
  {
   "metadata": {},
   "cell_type": "markdown",
   "source": "Get all the variables for NHP H, and all sessions in dACC. ",
   "id": "1e58fd8c1ea07d1f"
  },
  {
   "metadata": {},
   "cell_type": "code",
   "outputs": [],
   "execution_count": null,
   "source": [
    "vars_sess, psth_sess, Xd_sess, outputs_sess=proc.get_all_vars_nhp(subj='H', area='dACC', sessions=np.arange(1,6))\n",
    "\n"
   ],
   "id": "d5b6198e02a4df53"
  },
  {
   "metadata": {},
   "cell_type": "markdown",
   "source": "Collect data and time warp neural data",
   "id": "934dd91ac1620c35"
  },
  {
   "metadata": {},
   "cell_type": "code",
   "outputs": [],
   "execution_count": null,
   "source": "",
   "id": "c41497cba25d6b1c"
  }
 ],
 "metadata": {
  "kernelspec": {
   "display_name": "Python 3",
   "language": "python",
   "name": "python3"
  },
  "language_info": {
   "codemirror_mode": {
    "name": "ipython",
    "version": 2
   },
   "file_extension": ".py",
   "mimetype": "text/x-python",
   "name": "python",
   "nbconvert_exporter": "python",
   "pygments_lexer": "ipython2",
   "version": "2.7.6"
  }
 },
 "nbformat": 4,
 "nbformat_minor": 5
}
